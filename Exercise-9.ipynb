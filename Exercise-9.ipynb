{
 "cells": [
  {
   "cell_type": "code",
   "execution_count": 1,
   "metadata": {},
   "outputs": [
    {
     "name": "stdout",
     "output_type": "stream",
     "text": [
      "Test if two arrays are element-wise equal within a tolerence:\n",
      "False\n",
      "True\n",
      "False\n",
      "False\n",
      "True\n"
     ]
    }
   ],
   "source": [
    "import numpy as np\n",
    "print(\"Test if two arrays are element-wise equal within a tolerence:\")\n",
    "print(np.allclose([1e10,1e-7], [1.00001e10,1e-8]))\n",
    "print(np.allclose([1e10,1e-8], [1.00001e10,1e-9]))\n",
    "print(np.allclose([1e10,1e-8], [1.0001e10,1e-9]))\n",
    "print(np.allclose([1.0, np.nan], [1.0, np.nan]))\n",
    "print(np.allclose([1.0, np.nan], [1.0, np.nan], equal_nan=True))"
   ]
  },
  {
   "cell_type": "code",
   "execution_count": null,
   "metadata": {},
   "outputs": [],
   "source": []
  }
 ],
 "metadata": {
  "kernelspec": {
   "display_name": "Python 3",
   "language": "python",
   "name": "python3"
  },
  "language_info": {
   "codemirror_mode": {
    "name": "ipython",
    "version": 3
   },
   "file_extension": ".py",
   "mimetype": "text/x-python",
   "name": "python",
   "nbconvert_exporter": "python",
   "pygments_lexer": "ipython3",
   "version": "3.7.4"
  }
 },
 "nbformat": 4,
 "nbformat_minor": 2
}
