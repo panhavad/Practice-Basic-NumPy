{
 "cells": [
  {
   "cell_type": "code",
   "execution_count": 2,
   "metadata": {},
   "outputs": [
    {
     "name": "stdout",
     "output_type": "stream",
     "text": [
      "Check if 'temp_array.npy' exists or not?\n"
     ]
    }
   ],
   "source": [
    "import numpy as np\n",
    "import os\n",
    "a = np.arange(20)\n",
    "np.save('temp_array.npy', a)\n",
    "print(\"Check if 'temp_array.npy' exists or not?\")\n",
    "if os.path.exists('tem_array.npy'):\n",
    "    x2 = np.load('temp_array.npy')\n",
    "    print(np.array_equal(a, x2))"
   ]
  },
  {
   "cell_type": "code",
   "execution_count": null,
   "metadata": {},
   "outputs": [],
   "source": []
  }
 ],
 "metadata": {
  "kernelspec": {
   "display_name": "Python 3",
   "language": "python",
   "name": "python3"
  },
  "language_info": {
   "codemirror_mode": {
    "name": "ipython",
    "version": 3
   },
   "file_extension": ".py",
   "mimetype": "text/x-python",
   "name": "python",
   "nbconvert_exporter": "python",
   "pygments_lexer": "ipython3",
   "version": "3.7.4"
  }
 },
 "nbformat": 4,
 "nbformat_minor": 2
}
