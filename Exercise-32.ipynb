{
 "cells": [
  {
   "cell_type": "code",
   "execution_count": 1,
   "metadata": {},
   "outputs": [
    {
     "name": "stdout",
     "output_type": "stream",
     "text": [
      "Original array:\n",
      "[[0 1]\n",
      " [2 3]]\n",
      "Sum of all elements:\n",
      "6\n",
      "Sum of each column:\n",
      "[2 4]\n",
      "Sum of each row:\n",
      "[1 5]\n"
     ]
    }
   ],
   "source": [
    "import numpy as np\n",
    "x = np.array([[0, 1], [2, 3]])\n",
    "print(\"Original array:\")\n",
    "print(x)\n",
    "print(\"Sum of all elements:\")\n",
    "print(np.sum(x))\n",
    "print(\"Sum of each column:\")\n",
    "print(np.sum(x, axis = 0))\n",
    "print(\"Sum of each row:\")\n",
    "print(np.sum(x, axis = 1))"
   ]
  },
  {
   "cell_type": "code",
   "execution_count": null,
   "metadata": {},
   "outputs": [],
   "source": []
  }
 ],
 "metadata": {
  "kernelspec": {
   "display_name": "Python 3",
   "language": "python",
   "name": "python3"
  },
  "language_info": {
   "codemirror_mode": {
    "name": "ipython",
    "version": 3
   },
   "file_extension": ".py",
   "mimetype": "text/x-python",
   "name": "python",
   "nbconvert_exporter": "python",
   "pygments_lexer": "ipython3",
   "version": "3.7.4"
  }
 },
 "nbformat": 4,
 "nbformat_minor": 2
}
