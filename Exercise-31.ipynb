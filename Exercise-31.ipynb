{
 "cells": [
  {
   "cell_type": "code",
   "execution_count": 1,
   "metadata": {},
   "outputs": [
    {
     "name": "stdout",
     "output_type": "stream",
     "text": [
      "[[[0.70198418 0.93138574 0.25270598]\n",
      "  [0.33295434 0.72731555 0.97914441]\n",
      "  [0.67044705 0.50258806 0.90668386]]\n",
      "\n",
      " [[0.85867951 0.64947931 0.34972952]\n",
      "  [0.84958913 0.16753572 0.02523477]\n",
      "  [0.04641182 0.43138531 0.61066924]]\n",
      "\n",
      " [[0.69646557 0.03272717 0.9901317 ]\n",
      "  [0.68983559 0.28142219 0.96998848]\n",
      "  [0.97718308 0.64752501 0.14796498]]]\n"
     ]
    }
   ],
   "source": [
    "import numpy as np\n",
    "x = np.random.random((3, 3, 3))\n",
    "print(x)"
   ]
  },
  {
   "cell_type": "code",
   "execution_count": null,
   "metadata": {},
   "outputs": [],
   "source": []
  }
 ],
 "metadata": {
  "kernelspec": {
   "display_name": "Python 3",
   "language": "python",
   "name": "python3"
  },
  "language_info": {
   "codemirror_mode": {
    "name": "ipython",
    "version": 3
   },
   "file_extension": ".py",
   "mimetype": "text/x-python",
   "name": "python",
   "nbconvert_exporter": "python",
   "pygments_lexer": "ipython3",
   "version": "3.7.4"
  }
 },
 "nbformat": 4,
 "nbformat_minor": 2
}
